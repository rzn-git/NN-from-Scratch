{
 "cells": [
  {
   "cell_type": "code",
   "execution_count": 1,
   "metadata": {},
   "outputs": [
    {
     "name": "stdout",
     "output_type": "stream",
     "text": [
      "Downloading data from https://storage.googleapis.com/tensorflow/tf-keras-datasets/mnist.npz\n",
      "\u001b[1m11490434/11490434\u001b[0m \u001b[32m━━━━━━━━━━━━━━━━━━━━\u001b[0m\u001b[37m\u001b[0m \u001b[1m3s\u001b[0m 0us/step\n",
      "Iteration 0, Cost: 2.3016256293850863\n",
      "Iteration 100, Cost: 2.2823703153740986\n",
      "Iteration 200, Cost: 2.133786625070115\n",
      "Iteration 300, Cost: 1.6736854297719395\n",
      "Iteration 400, Cost: 1.246369003642687\n",
      "Iteration 500, Cost: 0.9788800608567569\n",
      "Iteration 600, Cost: 0.8093288236790459\n",
      "Iteration 700, Cost: 0.6973533066655225\n",
      "Iteration 800, Cost: 0.6202771813094639\n",
      "Iteration 900, Cost: 0.5643193495129554\n",
      "Test Accuracy: 87.28%\n"
     ]
    }
   ],
   "source": [
    "import numpy as np\n",
    "from keras.datasets import mnist\n",
    "\n",
    "# Load the MNIST dataset\n",
    "(train_X, train_y), (test_X, test_y) = mnist.load_data()\n",
    "\n",
    "# Flatten the 28x28 images into vectors of size 784\n",
    "train_X = train_X.reshape(train_X.shape[0], -1) / 255.0  # Normalize input data to [0, 1]\n",
    "test_X = test_X.reshape(test_X.shape[0], -1) / 255.0\n",
    "\n",
    "# One-hot encode the labels (for 10 classes)\n",
    "def one_hot_encode(y, num_classes):\n",
    "    one_hot = np.zeros((y.size, num_classes))\n",
    "    one_hot[np.arange(y.size), y] = 1\n",
    "    return one_hot\n",
    "\n",
    "train_y = one_hot_encode(train_y, 10)\n",
    "test_y = one_hot_encode(test_y, 10)\n",
    "\n",
    "# Activation functions and their derivatives\n",
    "def sigmoid(x):\n",
    "    return 1 / (1 + np.exp(-x))\n",
    "\n",
    "def sigmoid_derivative(x):\n",
    "    return x * (1 - x)\n",
    "\n",
    "def softmax(x):\n",
    "    exps = np.exp(x - np.max(x, axis=1, keepdims=True))  # For numerical stability\n",
    "    return exps / np.sum(exps, axis=1, keepdims=True)\n",
    "\n",
    "# Initialize weights and biases\n",
    "input_size = 784      # Number of input neurons (28x28 pixels)\n",
    "hidden_size = 64      # Number of neurons in the hidden layer\n",
    "output_size = 10      # Number of output neurons (10 classes for digits 0-9)\n",
    "\n",
    "np.random.seed(42)  # For reproducibility\n",
    "\n",
    "# Weights and biases initialization\n",
    "W1 = np.random.randn(input_size, hidden_size) * 0.01  # Weights from input to hidden layer\n",
    "b1 = np.zeros((1, hidden_size))                        # Biases for hidden layer\n",
    "W2 = np.random.randn(hidden_size, output_size) * 0.01  # Weights from hidden to output layer\n",
    "b2 = np.zeros((1, output_size))                        # Biases for output layer\n",
    "\n",
    "# Forward propagation\n",
    "def forward_propagation(X):\n",
    "    # Hidden layer\n",
    "    Z1 = np.dot(X, W1) + b1  # Linear transformation for hidden layer\n",
    "    A1 = sigmoid(Z1)         # Activation using sigmoid function\n",
    "    \n",
    "    # Output layer\n",
    "    Z2 = np.dot(A1, W2) + b2  # Linear transformation for output layer\n",
    "    A2 = softmax(Z2)          # Activation using softmax function for output probabilities\n",
    "    \n",
    "    return Z1, A1, Z2, A2\n",
    "\n",
    "# Backward propagation\n",
    "def backward_propagation(X, y, Z1, A1, Z2, A2):\n",
    "    # Number of samples\n",
    "    m = X.shape[0]\n",
    "    \n",
    "    # Output layer error\n",
    "    dZ2 = A2 - y  # Error at output layer (softmax - true labels)\n",
    "    dW2 = np.dot(A1.T, dZ2) / m  # Gradient of W2\n",
    "    db2 = np.sum(dZ2, axis=0, keepdims=True) / m  # Gradient of b2\n",
    "    \n",
    "    # Hidden layer error\n",
    "    dA1 = np.dot(dZ2, W2.T)  # Backpropagated error to hidden layer\n",
    "    dZ1 = dA1 * sigmoid_derivative(A1)  # Gradient of sigmoid function\n",
    "    dW1 = np.dot(X.T, dZ1) / m  # Gradient of W1\n",
    "    db1 = np.sum(dZ1, axis=0, keepdims=True) / m  # Gradient of b1\n",
    "    \n",
    "    return dW1, db1, dW2, db2\n",
    "\n",
    "# Training the network\n",
    "def train(X, y, iterations, learning_rate):\n",
    "    global W1, b1, W2, b2\n",
    "    for i in range(iterations):\n",
    "        # Forward propagation\n",
    "        Z1, A1, Z2, A2 = forward_propagation(X)\n",
    "        \n",
    "        # Backward propagation\n",
    "        dW1, db1, dW2, db2 = backward_propagation(X, y, Z1, A1, Z2, A2)\n",
    "        \n",
    "        # Update weights and biases\n",
    "        W1 -= learning_rate * dW1\n",
    "        b1 -= learning_rate * db1\n",
    "        W2 -= learning_rate * dW2\n",
    "        b2 -= learning_rate * db2\n",
    "        \n",
    "        # Every 100 iterations, print the cost (cross-entropy loss)\n",
    "        if i % 100 == 0:\n",
    "            cost = -np.mean(np.sum(y * np.log(A2 + 1e-8), axis=1))  # Cross-entropy loss\n",
    "            print(f\"Iteration {i}, Cost: {cost}\")\n",
    "\n",
    "# Predictions\n",
    "def predict(X):\n",
    "    _, _, _, A2 = forward_propagation(X)\n",
    "    return np.argmax(A2, axis=1)\n",
    "\n",
    "# Calculate accuracy\n",
    "def accuracy(predictions, labels):\n",
    "    return np.mean(predictions == np.argmax(labels, axis=1))\n",
    "\n",
    "# Training the network on the MNIST dataset\n",
    "train(X=train_X, y=train_y, iterations=1000, learning_rate=0.1)\n",
    "\n",
    "# Testing accuracy on the test set\n",
    "test_predictions = predict(test_X)\n",
    "print(f\"Test Accuracy: {accuracy(test_predictions, test_y) * 100:.2f}%\")\n"
   ]
  },
  {
   "cell_type": "code",
   "execution_count": 5,
   "metadata": {},
   "outputs": [],
   "source": [
    "# Function to predict the class of a single test sample\n",
    "def predict_single(sample):\n",
    "    # Reshape and normalize the input sample\n",
    "    sample = sample.reshape(1, -1) / 255.0  # Reshape to (1, 784) and normalize\n",
    "    _, _, _, A2 = forward_propagation(sample)  # Forward propagation\n",
    "    predicted_class = np.argmax(A2, axis=1)  # Get the predicted class\n",
    "    return predicted_class[0]  # Return the predicted class as a single integer\n",
    "\n",
    "\n"
   ]
  },
  {
   "cell_type": "code",
   "execution_count": 8,
   "metadata": {},
   "outputs": [
    {
     "name": "stdout",
     "output_type": "stream",
     "text": [
      "Predicted Class for sample 0: 5\n"
     ]
    },
    {
     "data": {
      "image/png": "[encoded data removed]",
      "text/plain": [
       "<Figure size 640x480 with 1 Axes>"
      ]
     },
     "metadata": {},
     "output_type": "display_data"
    }
   ],
   "source": [
    "# Get the predicted class for a single test sample\n",
    "single_test_sample = test_X[200]  # Change the index to test other samples\n",
    "predicted_class = predict_single(single_test_sample)\n",
    "print(f\"Predicted Class for sample 0: {predicted_class}\")\n",
    "\n",
    "# If you want to visualize the sample, you can use matplotlib (optional)\n",
    "import matplotlib.pyplot as plt\n",
    "\n",
    "# Display the test sample\n",
    "plt.imshow(single_test_sample.reshape(28, 28), cmap='gray')\n",
    "plt.title(f\"Predicted Class: {predicted_class}\")\n",
    "plt.axis('off')\n",
    "plt.show()\n"
   ]
  }
 ],
 "metadata": {
  "kernelspec": {
   "display_name": "Python 3",
   "language": "python",
   "name": "python3"
  },
  "language_info": {
   "codemirror_mode": {
    "name": "ipython",
    "version": 3
   },
   "file_extension": ".py",
   "mimetype": "text/x-python",
   "name": "python",
   "nbconvert_exporter": "python",
   "pygments_lexer": "ipython3",
   "version": "3.12.7"
  }
 },
 "nbformat": 4,
 "nbformat_minor": 2
}
